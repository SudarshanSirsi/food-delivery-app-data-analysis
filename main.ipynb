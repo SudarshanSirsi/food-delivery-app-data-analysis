import pandas as pd
import numpy as np
import warnings
import os

warnings.filterwarnings("ignore")


def read_data_from_csv():
    hotels = pd.read_csv('zomato.csv')
    return hotels


def remove_unwanted_columns():
    # call read_data_from_csv() function to get dataframe
    hotels = read_data_from_csv()
    hotels = hotels.drop('address', axis=1)
    hotels = hotels.drop('phone', axis=1)
    return hotels


def rename_columns():
    # call remove_unwanted_columns() function to get dataframe
    hotels = remove_unwanted_columns()

    # task2: rename columns,
    # 1.	Id
    # 2.	Name
    # 3.	online_order
    # 4.	book_table
    # 5.	rating
    # 6.	votes
    # 7.	location
    # 8.	rest_type
    # 9.	dish_liked
    # 10.	cuisines
    # 11.	approx_cost
    # 12.	type
    # hotels.index.names = ['Id']
    hotels.rename(columns={'rate': 'rating', 'approx_cost(for two people)': 'approx_cost', 'listed_in(type)': 'type'},
                  inplace=True)
    return hotels


# task3: handle  null values of each column
def null_value_check():
    # call rename_columns() function to get dataframe
    hotels = rename_columns()

    # deleting null values of name column
    hotels = hotels.dropna(subset=['name'], axis=0)
    # handling null values of online_order
    hotels['online_order'] = hotels['online_order'].fillna('NA')
    # handling null values of book_table
    hotels['book_table'] = hotels['book_table'].fillna('NA')
    # handling null values of rating
    hotels['rating'] = hotels['rating'].fillna(0)
    # handling null values of votes
    hotels['votes'] = hotels['votes'].fillna(0)
    # handling null values of location
    hotels['location'] = hotels['location'].fillna('NA')
    # handling null values of rest_type
    hotels['rest_type'] = hotels['rest_type'].fillna('NA')
    # handling null values of dishliked
    hotels['dish_liked'] = hotels['dish_liked'].fillna('NA')
    # handling null values of cuisines
    hotels['cuisines'] = hotels['cuisines'].fillna('NA')
    #  hotels = hotels.dropna(subset = ['cuisines'] , axis = 0)
    # handling null values of approxcost
    hotels['approx_cost'] = hotels['approx_cost'].fillna(0)
    # handling null values of type
    hotels['type'] = hotels['type'].fillna('NA')
    return hotels


# task4 #find duplicates in the dataset
def find_duplicates():
    # call null_value_check() function to get dataframe
    hotels = null_value_check()

    # droping the duplicates value keeping the first
    hotels = hotels.drop_duplicates(keep='first')
    return hotels


# task5 removing irrelevant text from all the columns
def removing_irrelevant_text():
    # call find_duplicates() function to get dataframe
    hotels = find_duplicates()
    hotels = hotels[hotels['name'].str.contains('Rated|RATED') == False]
    hotels = hotels[hotels['online_order'].str.contains('Rated|RATED') == False]
    hotels = hotels[hotels['book_table'].str.contains('Rated|RATED') == False]
    hotels = hotels[hotels['rating'].str.contains('Rated|RATED') == False]
    hotels = hotels[hotels['votes'].str.contains('Rated|RATED') == False]
    hotels = hotels[hotels['location'].str.contains('Rated|RATED') == False]
    hotels = hotels[hotels['rest_type'].str.contains('Rated|RATED') == False]
    hotels = hotels[hotels['dish_liked'].str.contains('Rated|RATED') == False]
    hotels = hotels[hotels['cuisines'].str.contains('Rated|RATED') == False]
    hotels = hotels[hotels['approx_cost'].str.contains('Rated|RATED') == False]
    hotels = hotels[hotels['type'].str.contains('Rated|RATED') == False]

    return hotels


# task6: check for unique values in each column and handle the irrelevant values
def check_for_unique_values():
    # call removing_irrelevant_text() function to get dataframe
    hotels = removing_irrelevant_text()
    hotels = hotels[~hotels['online_order'].isin(['tawa ke veg',
                                                  'classy. Communiti should be your go to place if you are in '
                                                  'Bangalore. They have the best micro brewery!! The vibe is so '
                                                  'positive and welcoming. Located in the prime location',
                                                  ' Mochar Chop', ' Food: 3.5/5'])]
    hotels['rating'] = hotels['rating'].str.replace('/5', '')
    # hotels['rating'] = hotels['rating'].str.replace('NEW',0)
    # hotels['rating'] = hotels['rating'].str.replace('-',0)
    hotels['rating'] = hotels['rating'].replace({'NEW': 0, '-': 0})

    return hotels


# task7: remove the unknown character from the dataset and export it to "zomatocleaned.csv"
def remove_the_unknown_character():
    # call check_for_unique_values() function to get dataframe
    dataframe = check_for_unique_values()
    # remove unknown character from dataset
    dataframe['name'] = dataframe['name'].str.encode('ascii', 'ignore').str.decode('ascii')
    dataframe['online_order'] = dataframe['online_order'].str.encode('ascii', 'ignore').str.decode('ascii')
    dataframe['book_table'] = dataframe['book_table'].str.encode('ascii', 'ignore').str.decode('ascii')
    dataframe['rating'] = dataframe['rating'].str.encode('ascii', 'ignore').str.decode('ascii')
    dataframe['votes'] = dataframe['votes'].str.encode('ascii', 'ignore').str.decode('ascii')
    dataframe['location'] = dataframe['location'].str.encode('ascii', 'ignore').str.decode('ascii')
    dataframe['rest_type'] = dataframe['rest_type'].str.encode('ascii', 'ignore').str.decode('ascii')
    dataframe['dish_liked'] = dataframe['dish_liked'].str.encode('ascii', 'ignore').str.decode('ascii')
    dataframe['cuisines'] = dataframe['cuisines'].str.encode('ascii', 'ignore').str.decode('ascii')
    dataframe['approx_cost'] = dataframe['approx_cost'].str.encode('ascii', 'ignore').str.decode('ascii')
    dataframe['type'] = dataframe['type'].str.encode('ascii', 'ignore').str.decode('ascii')
    spec_chars = [",", "-", "'", "@", "!", "$", ".", "_", "+", "`"]
    for char in spec_chars:
        dataframe['approx_cost'] = dataframe['approx_cost'].str.replace(char, '')
        dataframe['name'] = dataframe['name'].str.replace(char, '')
    # export cleaned Dataset to newcsv file named "zomatocleaned.csv"
    dataframe.to_csv('zomatocleaned.csv')
    return dataframe


# check if mysql table is created using "zomatocleaned.csv"
# Use this final dataset and upload it on the database for performing analysis in  MySQL
read_data_from_csv()
remove_unwanted_columns()
rename_columns()
null_value_check()
find_duplicates()
removing_irrelevant_text()
check_for_unique_values()
remove_the_unknown_character()
